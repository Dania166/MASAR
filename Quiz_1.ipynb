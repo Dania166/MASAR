{
  "nbformat": 4,
  "nbformat_minor": 0,
  "metadata": {
    "colab": {
      "provenance": []
    },
    "kernelspec": {
      "name": "python3",
      "display_name": "Python 3"
    },
    "language_info": {
      "name": "python"
    }
  },
  "cells": [
    {
      "cell_type": "markdown",
      "source": [
        "#Quiz 1 (MASAR)"
      ],
      "metadata": {
        "id": "osOsJMHnlsP5"
      }
    },
    {
      "cell_type": "markdown",
      "source": [
        "##فلتعتبر أن لديك مصفوفة فيها عدة أرقام, حاول أن تجد عددين يكون المجموع عدد معرف مسبق معطى لك. فلنفرض أن المجموع موجود في هذه المصفوفة"
      ],
      "metadata": {
        "id": "PQVEfj6Rl5WG"
      }
    },
    {
      "cell_type": "code",
      "execution_count": 2,
      "metadata": {
        "colab": {
          "base_uri": "https://localhost:8080/"
        },
        "id": "_jBKa8OzlpFn",
        "outputId": "8d6049a6-f688-4ebe-b70d-8cc793b59e1d"
      },
      "outputs": [
        {
          "output_type": "stream",
          "name": "stdout",
          "text": [
            "1\n",
            "2\n",
            "3\n"
          ]
        }
      ],
      "source": [
        "nums = [1,2,3] # Define array\n",
        "\n",
        "target = 5\n",
        "\n",
        "# Creating a Function that calculates the sum of two number and returns the target\n",
        "def twoSum(n , t):\n",
        "  for i in (n):\n",
        "    print(i)\n",
        "\n",
        "twoSum(nums , target)\n"
      ]
    }
  ]
}