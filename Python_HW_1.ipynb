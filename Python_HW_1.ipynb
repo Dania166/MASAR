{
  "nbformat": 4,
  "nbformat_minor": 0,
  "metadata": {
    "colab": {
      "provenance": []
    },
    "kernelspec": {
      "name": "python3",
      "display_name": "Python 3"
    },
    "language_info": {
      "name": "python"
    }
  },
  "cells": [
    {
      "cell_type": "markdown",
      "source": [
        "#Python HW 1\n",
        "*   تعريف متغير و جعل قيمته هو اسمك\n",
        "*   تعريف متغير آخر و يكون قيمته هو عمرك\n",
        "*  طباعة جملة تتحدث فيها عن نفسك\n",
        "\n",
        "\n",
        "\n",
        "\n",
        "\n"
      ],
      "metadata": {
        "id": "wUeMe9q7fbvz"
      }
    },
    {
      "cell_type": "code",
      "execution_count": 4,
      "metadata": {
        "colab": {
          "base_uri": "https://localhost:8080/"
        },
        "id": "nrvwB4SEd10r",
        "outputId": "61d4651a-52e5-4492-98c5-6ec751df9d9c"
      },
      "outputs": [
        {
          "output_type": "stream",
          "name": "stdout",
          "text": [
            "Hi everyone\n",
            "my name is Dania and I am gonna be the best DATA Scientist Remember my name Dania and age 23 years old now. \n",
            "Thanks MASAR:)\n"
          ]
        }
      ],
      "source": [
        "name = 'Dania' # Define a variable of name\n",
        "\n",
        "age = 23       # Define a variable of age\n",
        "# تعريف عن نفسي\n",
        "print(f'Hi everyone\\nmy name is {name} and I am gonna be the best DATA Scientist Remember my name {name} and age {age} years old now. \\nThanks MASAR:)')"
      ]
    }
  ]
}