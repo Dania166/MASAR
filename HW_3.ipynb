{
  "nbformat": 4,
  "nbformat_minor": 0,
  "metadata": {
    "colab": {
      "provenance": []
    },
    "kernelspec": {
      "name": "python3",
      "display_name": "Python 3"
    },
    "language_info": {
      "name": "python"
    }
  },
  "cells": [
    {
      "cell_type": "markdown",
      "source": [
        "#HW#3"
      ],
      "metadata": {
        "id": "kAwMizTW3BIe"
      }
    },
    {
      "cell_type": "markdown",
      "source": [
        "## 1-Write a Python program to construct the following pattern, using a nested for loop.\n",
        "    *\n",
        "    * *\n",
        "    * * *\n",
        "    * * * *\n",
        "    * * * * *\n",
        "    * * * *\n",
        "    * * *\n",
        "    * *\n",
        "    *\n"
      ],
      "metadata": {
        "id": "uu1qH0Lr4n3Q"
      }
    },
    {
      "cell_type": "code",
      "source": [
        "# Take the number of rows from user\n",
        "n= int(input(\"Enter the number of rows: \"))\n",
        "# Create function to drow the payramid shape\n",
        "def payramid(rows):\n",
        "    for i in range(rows):     # this loop for upper part of shape\n",
        "      print('* '*(i+1))\n",
        "    for j in range(rows-1,0, -1):     # this loop for lower part of shape\n",
        "          print('* '*(j))\n",
        "payramid(n)"
      ],
      "metadata": {
        "id": "C36c_XsY4_WQ"
      },
      "execution_count": null,
      "outputs": []
    },
    {
      "cell_type": "markdown",
      "source": [
        "##2-Print the first 3 prime numbers that are greater than 10 but less than 99"
      ],
      "metadata": {
        "id": "bTCX-WL6B40P"
      }
    },
    {
      "cell_type": "code",
      "source": [
        "def is_prime(num):\n",
        "    \"\"\"Check if a number is prime.\"\"\"\n",
        "    if num < 2:\n",
        "        return False\n",
        "    for i in range(2, int(num**0.5) + 1):\n",
        "        if num % i == 0:\n",
        "            return False\n",
        "    return True\n",
        "\n",
        "# Find the first 3 prime numbers greater than 10 but less than 99\n",
        "count = 0\n",
        "number = 11  # Start checking from 11\n",
        "\n",
        "while count < 3:\n",
        "    if is_prime(number):\n",
        "        print(number)\n",
        "        count += 1\n",
        "    number += 1"
      ],
      "metadata": {
        "colab": {
          "base_uri": "https://localhost:8080/"
        },
        "id": "EzjoS7ZNB_N0",
        "outputId": "adbbc414-2e4a-49cb-9e09-c8e42abbe320"
      },
      "execution_count": 13,
      "outputs": [
        {
          "output_type": "stream",
          "name": "stdout",
          "text": [
            "11\n",
            "13\n",
            "17\n"
          ]
        }
      ]
    }
  ]
}